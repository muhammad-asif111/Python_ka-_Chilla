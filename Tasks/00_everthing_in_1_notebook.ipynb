{
 "cells": [
  {
   "cell_type": "markdown",
   "metadata": {},
   "source": [
    "### Participant Detail\n",
    "\n",
    "Title = \"Hafiz\"\n",
    "\n",
    "Name = \"Muhammad Asif\"\n",
    "\n",
    "Email = \"asifbwp917@gmail.com\"\n",
    "\n",
    "whatsapp = \"+923047864124\"\n",
    "\n",
    "Aim =\"Learn Python with Baba Ammar انشا ء اللہ\""
   ]
  }
 ],
 "metadata": {
  "kernelspec": {
   "display_name": "Python 3.9.13 64-bit",
   "language": "python",
   "name": "python3"
  },
  "language_info": {
   "name": "python",
   "version": "3.9.13"
  },
  "orig_nbformat": 4,
  "vscode": {
   "interpreter": {
    "hash": "02d6d79b5971a4a297df81f6354b4e93e00b9f2d2f4ed087af1aae72eca27a55"
   }
  }
 },
 "nbformat": 4,
 "nbformat_minor": 2
}
